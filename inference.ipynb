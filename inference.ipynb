{
 "cells": [
  {
   "cell_type": "markdown",
   "metadata": {},
   "source": [
    "## Tacotron2 + WaveGlow inference"
   ]
  },
  {
   "cell_type": "markdown",
   "metadata": {},
   "source": [
    "#### Import libraries"
   ]
  },
  {
   "cell_type": "code",
   "execution_count": null,
   "metadata": {
    "ExecuteTime": {
     "end_time": "2019-06-18T19:49:21.250667Z",
     "start_time": "2019-06-18T19:49:21.244683Z"
    }
   },
   "outputs": [],
   "source": [
    "import os\n",
    "import sys\n",
    "sys.path.append('./tacotron2/')\n",
    "\n",
    "import IPython.display as ipd\n",
    "\n",
    "import numpy as np\n",
    "import torch\n",
    "\n",
    "from hparams import create_hparams\n",
    "from model import Tacotron2\n",
    "from text import text_to_sequence\n",
    "\n",
    "from griffin_lim import GriffinLim\n",
    "from WaveGlow import WaveGlow"
   ]
  },
  {
   "cell_type": "markdown",
   "metadata": {},
   "source": [
    "#### Load WaveGlow and Tacotron2 models"
   ]
  },
  {
   "cell_type": "code",
   "execution_count": null,
   "metadata": {
    "ExecuteTime": {
     "end_time": "2019-06-18T19:49:22.240827Z",
     "start_time": "2019-06-18T19:49:22.235839Z"
    }
   },
   "outputs": [],
   "source": [
    "def load_waveglow(path):\n",
    "    assert os.path.isfile(path)\n",
    "\n",
    "    param_dict = torch.load(path, map_location='cpu')\n",
    "    model = param_dict['model_class']\n",
    "    model.load_state_dict(param_dict['model'])\n",
    "    \n",
    "    return model"
   ]
  },
  {
   "cell_type": "code",
   "execution_count": null,
   "metadata": {
    "ExecuteTime": {
     "end_time": "2019-06-18T19:49:23.687200Z",
     "start_time": "2019-06-18T19:49:23.682213Z"
    }
   },
   "outputs": [],
   "source": [
    "def load_tacotron2(hparams, path):\n",
    "    assert os.path.isfile(path)\n",
    "    \n",
    "    model = Tacotron2(hparams)\n",
    "    model.load_state_dict(torch.load(path)['state_dict'])\n",
    "    \n",
    "    return model"
   ]
  },
  {
   "cell_type": "code",
   "execution_count": null,
   "metadata": {
    "ExecuteTime": {
     "end_time": "2019-06-18T19:49:24.172038Z",
     "start_time": "2019-06-18T19:49:24.169013Z"
    }
   },
   "outputs": [],
   "source": [
    "# change parameters\n",
    "tacotron2_path = \"tacotron2_statedict.pt\"\n",
    "waveglow_path = 'WaveGlow_13000.ckpt'\n",
    "\n",
    "device = torch.device('cuda')"
   ]
  },
  {
   "cell_type": "code",
   "execution_count": null,
   "metadata": {
    "ExecuteTime": {
     "end_time": "2019-06-18T19:49:25.466060Z",
     "start_time": "2019-06-18T19:49:24.875634Z"
    }
   },
   "outputs": [],
   "source": [
    "hparams = create_hparams()\n",
    "sr = 22050\n",
    "hparams.sampling_rate = sr\n",
    "tacotron2 = load_tacotron2(hparams, tacotron2_path)\n",
    "tacotron2 = tacotron2.to(device).eval()"
   ]
  },
  {
   "cell_type": "code",
   "execution_count": null,
   "metadata": {
    "ExecuteTime": {
     "end_time": "2019-06-18T19:49:27.438591Z",
     "start_time": "2019-06-18T19:49:26.082059Z"
    }
   },
   "outputs": [],
   "source": [
    "waveglow = load_waveglow(waveglow_path)\n",
    "waveglow = waveglow.to(device).eval()"
   ]
  },
  {
   "cell_type": "markdown",
   "metadata": {},
   "source": [
    "#### GriffinLim"
   ]
  },
  {
   "cell_type": "code",
   "execution_count": null,
   "metadata": {
    "ExecuteTime": {
     "end_time": "2019-06-18T19:49:27.631350Z",
     "start_time": "2019-06-18T19:49:27.613396Z"
    }
   },
   "outputs": [],
   "source": [
    "griffin_lim = GriffinLim(\n",
    "    sample_rate=sr,\n",
    "    num_frequencies=1025,\n",
    "    frame_length=1024 / sr + 1e-6,\n",
    "    frame_shift=256 / sr + 1e-6,\n",
    "    mel_channels=80,\n",
    "    min_frequency=0,\n",
    "    max_frequency=8000,\n",
    "    ref_db=20,\n",
    "    min_db=-100,\n",
    "    num_iter=50)"
   ]
  },
  {
   "cell_type": "markdown",
   "metadata": {},
   "source": [
    "#### Text-to-audio inference function"
   ]
  },
  {
   "cell_type": "code",
   "execution_count": null,
   "metadata": {
    "ExecuteTime": {
     "end_time": "2019-06-18T19:49:29.352276Z",
     "start_time": "2019-06-18T19:49:29.345295Z"
    }
   },
   "outputs": [],
   "source": [
    "def text_to_audio(text, sigma=0.5):\n",
    "    sequence = np.array(text_to_sequence(text, ['english_cleaners']))[None, :]\n",
    "    sequence = torch.from_numpy(sequence).long().to(device)\n",
    "    with torch.no_grad():\n",
    "        mel_outputs, mel_outputs_postnet, _, alignments = tacotron2.inference(sequence)\n",
    "        waveglow_audio = waveglow.infer(mel_outputs_postnet, sigma=sigma)[0].data.cpu().numpy()\n",
    "    griffin_audio = griffin_lim.inv_melspectrogram(mel_outputs_postnet[0].data.cpu().numpy())\n",
    "    \n",
    "    return waveglow_audio, griffin_audio"
   ]
  },
  {
   "cell_type": "markdown",
   "metadata": {},
   "source": [
    "#### Synthesize audio from text"
   ]
  },
  {
   "cell_type": "code",
   "execution_count": null,
   "metadata": {
    "ExecuteTime": {
     "end_time": "2019-06-18T19:50:24.672613Z",
     "start_time": "2019-06-18T19:50:21.038692Z"
    }
   },
   "outputs": [],
   "source": [
    "# text = \"Waveglow is really awesome!\"\n",
    "text = \"Nikita is my best friend.\"\n",
    "waveglow_audio, griffin_audio = text_to_audio(text, 0.66)"
   ]
  },
  {
   "cell_type": "code",
   "execution_count": null,
   "metadata": {
    "ExecuteTime": {
     "end_time": "2019-06-18T19:50:24.695364Z",
     "start_time": "2019-06-18T19:50:24.674419Z"
    }
   },
   "outputs": [],
   "source": [
    "# Waveglow output\n",
    "ipd.Audio(waveglow_audio, rate=sr)"
   ]
  },
  {
   "cell_type": "code",
   "execution_count": null,
   "metadata": {
    "ExecuteTime": {
     "end_time": "2019-06-18T19:50:24.718338Z",
     "start_time": "2019-06-18T19:50:24.697358Z"
    }
   },
   "outputs": [],
   "source": [
    "# Griffin-Lim output\n",
    "ipd.Audio(griffin_audio, rate=sr)"
   ]
  }
 ],
 "metadata": {
  "hide_input": false,
  "kernelspec": {
   "display_name": "Python 3",
   "language": "python",
   "name": "python3"
  },
  "language_info": {
   "codemirror_mode": {
    "name": "ipython",
    "version": 3
   },
   "file_extension": ".py",
   "mimetype": "text/x-python",
   "name": "python",
   "nbconvert_exporter": "python",
   "pygments_lexer": "ipython3",
   "version": "3.7.1"
  },
  "toc": {
   "base_numbering": 1,
   "nav_menu": {},
   "number_sections": true,
   "sideBar": true,
   "skip_h1_title": false,
   "title_cell": "Table of Contents",
   "title_sidebar": "Contents",
   "toc_cell": false,
   "toc_position": {},
   "toc_section_display": true,
   "toc_window_display": false
  }
 },
 "nbformat": 4,
 "nbformat_minor": 2
}
